{
  "cells": [
    {
      "cell_type": "markdown",
      "id": "db4b50f0",
      "metadata": {
        "id": "db4b50f0"
      },
      "source": [
        "# Лабораторная работа №5\n",
        "## Выполнил студент группы Никифорова Олеся БВТ2102"
      ]
    },
    {
      "cell_type": "markdown",
      "id": "annual-symbol",
      "metadata": {
        "id": "annual-symbol"
      },
      "source": [
        "### Оглавление\n",
        "1. [Задание 1](#Задание-№1)\n",
        "2. [Задание 2](#Задание-№2)\n",
        "4. [Вывод](#Вывод)"
      ]
    },
    {
      "cell_type": "markdown",
      "id": "independent-spirit",
      "metadata": {
        "id": "independent-spirit"
      },
      "source": [
        "> Дополнительные модули, использованные при выполнение лабораторной"
      ]
    },
    {
      "cell_type": "code",
      "execution_count": 63,
      "id": "4839be2b",
      "metadata": {
        "id": "4839be2b"
      },
      "outputs": [],
      "source": [
        "# Необходим при замере скорости выполнения кода\n",
        "from datetime import datetime as t\n",
        "# Нужен для создания словаря в алг. Бойера-Мура\n",
        "from collections import defaultdict\n",
        "import collections\n"
      ]
    },
    {
      "cell_type": "markdown",
      "id": "inclusive-motorcycle",
      "metadata": {
        "id": "inclusive-motorcycle"
      },
      "source": [
        "### Задание №1\n",
        "Реализовать методы поиска подстроки в строке. Добавить возможность ввода строки и подстроки с клавиатуры. Предусмотреть возможность существования пробела. Реализовать возможность выбора опции чувствительности или нечувствительности к регистру. Оценить время работы каждого алгоритма поиска и сравнить его со временем работы стандартной функции поиска, используемой в выбранном языке программирования."
      ]
    },
    {
      "cell_type": "markdown",
      "id": "interracial-communication",
      "metadata": {
        "id": "interracial-communication"
      },
      "source": [
        "#### Алгоритм Кнута-Морриса-Пратта"
      ]
    },
    {
      "cell_type": "code",
      "execution_count": 12,
      "id": "presidential-level",
      "metadata": {
        "colab": {
          "base_uri": "https://localhost:8080/"
        },
        "id": "presidential-level",
        "outputId": "31a69924-0cb6-488c-d208-a72234664a28"
      },
      "outputs": [
        {
          "name": "stdout",
          "output_type": "stream",
          "text": [
            "Подстрока найдена\n"
          ]
        }
      ],
      "source": [
        "t = \"строки\"\n",
        "a = \"методы поиска подстроки\"\n",
        "\n",
        "# массив длин префиксов\n",
        "def makeP(t):\n",
        "  p = [0]*len(t)\n",
        "  j = 0\n",
        "  i = 1\n",
        "  while i < len(t):\n",
        "    if t[j] == t[i]:\n",
        "      p[i] = j+1\n",
        "      i += 1\n",
        "      j += 1\n",
        "    else:\n",
        "      if j == 0:\n",
        "        p[i] = 0;\n",
        "        i += 1\n",
        "      else: j = p[j-1]\n",
        "  return p\n",
        "\n",
        "def kmp(a, t):\n",
        "  m = len(t)\n",
        "  n = len(a)\n",
        "  i = 0\n",
        "  j = 0\n",
        "  p = makeP(t)\n",
        "  while i < n:\n",
        "    if a[i] == t[j]:\n",
        "      i += 1\n",
        "      j += 1\n",
        "      if j == m:\n",
        "        return True\n",
        "        break\n",
        "    else:\n",
        "      if j > 0:\n",
        "        j = p[j-1]\n",
        "      else:\n",
        "        i += 1\n",
        "  if i == n and j != m:\n",
        "    return False\n",
        "\n",
        "\n",
        "if kmp(a, t):\n",
        "  print(\"Подстрока найдена\")\n",
        "else: print(\"Подстрока не найдена\")\n"
      ]
    },
    {
      "cell_type": "markdown",
      "id": "downtown-option",
      "metadata": {
        "id": "downtown-option"
      },
      "source": [
        "#### Упрощенный алгоритм Бойера-Мура"
      ]
    },
    {
      "cell_type": "code",
      "execution_count": 13,
      "id": "6hlI-cyUR0pq",
      "metadata": {
        "colab": {
          "base_uri": "https://localhost:8080/"
        },
        "id": "6hlI-cyUR0pq",
        "outputId": "228720dd-e65c-43ac-b69b-de233be8ec8b"
      },
      "outputs": [
        {
          "name": "stdout",
          "output_type": "stream",
          "text": [
            "методыпоискаподстроки\n"
          ]
        }
      ],
      "source": [
        "def process_string(a):\n",
        "    new_a = a.lower().replace(\" \", \"\")\n",
        "    return new_a\n",
        "\n",
        "a = \"методы поиска подстроки\"\n",
        "print(process_string(a))"
      ]
    },
    {
      "cell_type": "code",
      "execution_count": 14,
      "id": "respective-reggae",
      "metadata": {
        "colab": {
          "base_uri": "https://localhost:8080/"
        },
        "id": "respective-reggae",
        "outputId": "d3c021cd-156d-424a-ced2-184cc015d088"
      },
      "outputs": [
        {
          "name": "stdout",
          "output_type": "stream",
          "text": [
            "[(0, 6), (9, 15), (13, 19)]\n",
            "Подстрока найдена\n"
          ]
        }
      ],
      "source": [
        "# Строит таблицу смещений\n",
        "def makeD(t):\n",
        "    d = [len(t)]*256\n",
        "    for i in range(len(t) - 1):\n",
        "        d[ord(t[i])] = len(t) - i - 1\n",
        "    return d\n",
        "\n",
        "def BM(a, t):\n",
        "    a = process_string(a)\n",
        "    t = process_string(t)\n",
        "    # массив всех вхождений \n",
        "    A = [] \n",
        "    d = makeD(t)\n",
        "    skip = 0\n",
        "    while len(a) - skip >= len(t):\n",
        "        if a[skip:skip + len(t)] == t:\n",
        "            A.append((skip, skip + len(t)))\n",
        "        skip += d[ord(a[skip + len(t) - 1])]\n",
        "    return A\n",
        "\n",
        "\n",
        "a = \"ABCDABDA BABCDABCDabde\"\n",
        "t = \"ABCDAB\"\n",
        "print(BM(a, t))\n",
        "if len(BM(a, t)) != 0:\n",
        "  print(\"Подстрока найдена\")\n",
        "else: print(\"Подстрока не найдена\")"
      ]
    },
    {
      "cell_type": "markdown",
      "id": "hybrid-memorial",
      "metadata": {
        "id": "hybrid-memorial"
      },
      "source": [
        "### Задание №2\n",
        "Написать программу, определяющую, является ли данное\n",
        "расположение «решаемым», то есть можно ли из него за конечное число\n",
        "шагов перейти к правильному. Если это возможно, то необходимо найти хотя\n",
        "бы одно решение - последовательность движений, после которой числа будут\n",
        "расположены в правильном порядке.\n",
        "#### Входные данные: массив чисел, представляющий собой расстановку в\n",
        "Порядке «слева направо, сверху вниз». Число 0 обозначает пустое поле.\n",
        "Например, массив [1, 2, 3, 4, 5, 6, 7, 8, 9, 10, 11, 12, 13, 14, 15, 0] представляет\n",
        "собой «решенную» позицию элементов.\n",
        "#### Выходные данные: если решения нет, то функция должна вернуть\n",
        "Пустой массив []. Если решение есть, то необходимо представить решение —\n",
        "для каждого шага записывается номер передвигаемого на данном шаге\n",
        "элемента. "
      ]
    },
    {
      "cell_type": "code",
      "execution_count": 67,
      "id": "eleven-generic",
      "metadata": {
        "colab": {
          "base_uri": "https://localhost:8080/"
        },
        "id": "eleven-generic",
        "outputId": "6ee17d4e-92d6-4eea-91b8-3271ec8e82d8"
      },
      "outputs": [
        {
          "name": "stdout",
          "output_type": "stream",
          "text": [
            "solve: [1, 2, 3, 0, 5, 6, 7, 8, 9, 10, 11, 12, 13, 14, 15, 4]\n",
            "[1, 2, 3, 4, 5, 6, 7, 8, 9, 10, 11, 12, 13, 14, 15, 0]\n",
            "Путь: [3, 7, 8, 12, 4, 15, 11, 8, 12, 4, 8, 12, 7, 3, 4, 8, 12, 11, 15]\n"
          ]
        }
      ],
      "source": [
        "# Подсчет количества инверсий (пара элементов, где более крупный элемент находится перед более мелким в последовательности) в заданном массиве arr. \n",
        "# Функция перебирает все пары элементов и увеличивает счетчик res, если выполняется условие инверсии. \n",
        "def countInv(arr):\n",
        "    result = 0 # считаем кол-во перестановок\n",
        "    for i in range(15):\n",
        "        for j in range(i+1,16):\n",
        "            # проверка на не 0 и если \n",
        "            if arr[j] and arr[i] and arr[i] > arr[j]:\n",
        "                result += 1\n",
        "    return result\n",
        "\n",
        "# В какой строке находится пустая ячейка (0) в заданной раскладке пазла p. \n",
        "def place(p):\n",
        "    # от размера пятнашек вычитаем позицию строки, где находится 0\n",
        "    return 4 - (p.index(0)) // 4\n",
        "\n",
        "# Проверка раскладки на решаемость\n",
        "def solve(p):\n",
        "    n = countInv(p) # количество инверсий в раскладке\n",
        "    # для чётных пазлов\n",
        "    position = (4 - (start.index(0))) // 4 # в какой строке находится пустая ячейка\n",
        "    if position % 2 == 1: # если 0 в нечётном ряду\n",
        "        return n % 2 == 0\n",
        "    else: # если 0 в чётном ряду\n",
        "        return n % 2 == 1\n",
        "\n",
        "n = 4\n",
        "\n",
        "# генерирует все возможные следующие состояния пятнашек для данного состояния pos\n",
        "# определяет позицию пустой ячейки, а затем генерирует новые состояния, переставляя пустую ячейку с соседними ячейками вверх, вниз, влево и вправо\n",
        "# Каждое новое состояние представляется кортежем, в котором пустая ячейка заменяется на соседнюю ячейку, а соседняя ячейка заменяется на пустую.\n",
        "def move(pos):\n",
        "    zeroPos = pos.index(0)\n",
        "    i, j = divmod(zeroPos, n) # i - номер строки, j - номер столбца\n",
        "    offsets = []\n",
        "    if i > 0:\n",
        "        offsets.append(-n) # вверх\n",
        "    if j > 0:\n",
        "        offsets.append(-1) # влево\n",
        "    if i < n - 1:\n",
        "        offsets.append(n) # вниз\n",
        "    if j < n - 1:\n",
        "        offsets.append(1) # вправо\n",
        "    for offset in offsets:\n",
        "        change = offset + zeroPos\n",
        "        # возвращает кортежи, представляющие новые состояния пятнашек\n",
        "        yield tuple(pos[change] if x == zeroPos\n",
        "                    else pos[zeroPos] if x == change\n",
        "                    else pos[x] for x in range(n*n))\n",
        "        \n",
        "        \n",
        "# принимает начальное состояние start и находит путь от начального состояния к целевому состоянию    \n",
        "def solution(start):\n",
        "    endOrder = (1, 2, 3, 4, 5, 6, 7, 8, 9, 10, 11, 12, 13, 14, 15, 0)\n",
        "    if not solve(start):\n",
        "        print(\"Нет решений\")\n",
        "    else:\n",
        "        start = tuple(start)\n",
        "        p = Pos(start, 0)\n",
        "        queue = collections.deque()\n",
        "        queue.append(p)\n",
        "        # в котором хранятся посещенные состояния пятнашек\n",
        "        attend = set([p])\n",
        "        parents = {p.pos: None}\n",
        "        while p.pos != endOrder:\n",
        "            p = queue.popleft()\n",
        "            for i in move(p.pos):\n",
        "                if i not in attend:\n",
        "                    queue.append(Pos(i, p.way + 1))\n",
        "                    parents[i] = p\n",
        "                    attend.add(i)\n",
        "        path = []\n",
        "        prev = p\n",
        "        while p.pos != start:\n",
        "            p = parents[p.pos]\n",
        "            num = p.pos[prev.pos.index(0)]\n",
        "            path.append(num)\n",
        "            prev = p\n",
        "        path.reverse()\n",
        "        print(\"Путь:\", path)\n",
        "        \n",
        "# класс, представляющий состояние пятнашек\n",
        "class Pos:\n",
        "    def __init__(self, pos, way):\n",
        "        # представляющий текущее состояние пятнашек\n",
        "        self.pos = pos\n",
        "        # представляющий количество шагов, необходимых для достижения данного состояния\n",
        "        self.way = way        \n",
        "        \n",
        "\n",
        "start = [1, 2, 3, 0, 5, 6, 7, 8, 9, 10, 11, 12, 13, 14, 15, 4]\n",
        "\n",
        "print(\"solve:\", start)\n",
        "result = solve(start)\n",
        "\n",
        "if result:\n",
        "    print([1, 2, 3, 4, 5, 6, 7, 8, 9, 10, 11, 12, 13, 14, 15, 0])\n",
        "else:\n",
        "    print([])\n",
        "    \n",
        "solution(start)    \n"
      ]
    },
    {
      "cell_type": "markdown",
      "id": "arbitrary-amazon",
      "metadata": {
        "id": "arbitrary-amazon"
      },
      "source": [
        "### Вывод"
      ]
    },
    {
      "cell_type": "markdown",
      "id": "71bc58bf",
      "metadata": {
        "id": "71bc58bf"
      },
      "source": []
    }
  ],
  "metadata": {
    "colab": {
      "provenance": []
    },
    "kernelspec": {
      "display_name": "Python 3 (ipykernel)",
      "language": "python",
      "name": "python3"
    },
    "language_info": {
      "codemirror_mode": {
        "name": "ipython",
        "version": 3
      },
      "file_extension": ".py",
      "mimetype": "text/x-python",
      "name": "python",
      "nbconvert_exporter": "python",
      "pygments_lexer": "ipython3",
      "version": "3.10.2"
    }
  },
  "nbformat": 4,
  "nbformat_minor": 5
}
