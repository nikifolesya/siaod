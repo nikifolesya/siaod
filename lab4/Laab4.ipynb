{
  "cells": [
    {
      "cell_type": "markdown",
      "id": "fifteen-sailing",
      "metadata": {
        "id": "fifteen-sailing"
      },
      "source": [
        "# Лабораторная работа №4\n",
        "\n",
        "## Выполнил студент группы БВТ2102 Никифорова Олеся"
      ]
    },
    {
      "attachments": {},
      "cell_type": "markdown",
      "id": "arctic-stocks",
      "metadata": {
        "id": "arctic-stocks"
      },
      "source": [
        "Реализовать методы поиска в соответствии с заданием. Организовать генерацию начального набора случайных данных. Для всех вариантов добавить реализацию добавления, поиска и удаления элементов. Оценить время работы каждого алгоритма поиска и сравнить его со временем работы стандартной функции поиска, используемой в выбранном языке программирования."
      ]
    },
    {
      "cell_type": "code",
      "execution_count": 10,
      "id": "82074dcc",
      "metadata": {},
      "outputs": [],
      "source": [
        "import random"
      ]
    },
    {
      "cell_type": "code",
      "execution_count": 11,
      "id": "aWL0v7KEQ5wc",
      "metadata": {
        "id": "aWL0v7KEQ5wc"
      },
      "outputs": [
        {
          "name": "stdout",
          "output_type": "stream",
          "text": [
            "[0, 2, -24, -42, -17, -10, -16, 3, -32, -43, -17]\n",
            "[-43, -42, -32, -24, -17, -17, -16, -10, 0, 2, 3]\n"
          ]
        }
      ],
      "source": [
        "n = random.randint(10, 15)\n",
        "min_limit = random.randint(-50, 0)\n",
        "max_limit = random.randint(1, 50)\n",
        "\n",
        "arr  = []\n",
        "for i in range(n):\n",
        "  arr.append(random.randint(min_limit, max_limit + 1))\n",
        "\n",
        "# x = random.randint(-50, 50)   \n",
        "print(arr)\n",
        "arr.sort()\n",
        "print(arr)\n"
      ]
    },
    {
      "attachments": {},
      "cell_type": "markdown",
      "id": "d1eb329a",
      "metadata": {},
      "source": [
        "### Задание №1"
      ]
    },
    {
      "attachments": {},
      "cell_type": "markdown",
      "id": "4af79cf2",
      "metadata": {},
      "source": [
        "#### Бинарный поиск"
      ]
    },
    {
      "cell_type": "code",
      "execution_count": 12,
      "id": "7uhKfz2hUJz1",
      "metadata": {
        "id": "7uhKfz2hUJz1"
      },
      "outputs": [
        {
          "name": "stdout",
          "output_type": "stream",
          "text": [
            "[-43, -42, -32, -24, -17, -17, -16, -10, 0, 2, 3]\n",
            "Число 2 найдено под индексом 9\n",
            "Удаление числа 2 из массива: [-43, -42, -32, -24, -17, -17, -16, -10, 0, 3]\n",
            "Добавление числа 2 обратно в массив: [-43, -42, -32, -24, -17, -17, -16, -10, 0, 2, 3]\n"
          ]
        }
      ],
      "source": [
        "print(arr)\n",
        "# arr.sort()\n",
        "# print(arr)\n",
        "\n",
        "# Бинарный поиск: \n",
        "# time: log(n)\n",
        "# 1. Найти средний элемент заданного массива информации.\n",
        "# 2. Сравнить полученный объект со значением, которое мы ищем (с так называемым ключом). \n",
        "# Если он меньше среднего элемента, поиск осуществляется в левой половине. В противном случае – в правой.\n",
        "# 3. Когда ключ имеет такое же значение, что и средний элемент, происходит возврат индекса среднего элемента.\n",
        "# 4. Продолжать выполнять 1-2 шаги до тех пор, пока не останется один объект.\n",
        "# 5. Когда программа дойдет до последнего элемента, а ключ так и не был обнаружен, происходит возврат -1.\n",
        "\n",
        "def binPoisk(arr, x):\n",
        "    start = 0\n",
        "    end = len(arr) - 1\n",
        "    while end >= start:\n",
        "        middle = (start + end + 1) // 2\n",
        "        if x == arr[middle]:\n",
        "            return middle\n",
        "        elif x < arr[middle]:\n",
        "            end = middle - 1\n",
        "        elif x > arr[middle]:\n",
        "            start = middle + 1\n",
        "    return -1\n",
        " \n",
        "x = int(input('Введите число: '))\n",
        "# print(binPoisk(arr, x))\n",
        "result = binPoisk(arr, x)\n",
        "\n",
        "if result == -1:\n",
        "    print('Число не найдено')\n",
        "else:\n",
        "    print('Число', x, 'найдено под индексом', result)\n",
        "    arr.remove(x)\n",
        "    print('Удаление числа', x, 'из массива:', arr)\n",
        "    arr.insert(result ,x)\n",
        "    print('Добавление числа', x, 'обратно в массив:', arr)\n"
      ]
    },
    {
      "attachments": {},
      "cell_type": "markdown",
      "id": "5d7edb08",
      "metadata": {
        "id": "5d7edb08",
        "scrolled": true
      },
      "source": [
        "#### Бинарное дерево"
      ]
    },
    {
      "cell_type": "code",
      "execution_count": 13,
      "id": "17702ade",
      "metadata": {
        "id": "17702ade"
      },
      "outputs": [
        {
          "name": "stdout",
          "output_type": "stream",
          "text": [
            "[-43, -42, -32, -24, -17, -17, -16, -10, 0, 2, 3]\n",
            "Элемент 2 найден в дереве\n"
          ]
        }
      ],
      "source": [
        "# time: log(n)\n",
        "# Значение левого потомка меньше значения родителя, а значение правого потомка больше значения родителя для каждого узла дерева. \n",
        "# То есть, данные в бинарном дереве поиска хранятся в отсортированном виде. \n",
        "# При каждой операции вставки нового или удаления существующего узла отсортированный порядок дерева сохраняется. \n",
        "# При поиске элемента сравнивается искомое значение с корнем. Если искомое больше корня, \n",
        "# то поиск продолжается в правом потомке корня, если меньше, то в левом, если равно, то значение найдено и поиск прекращается.\n",
        "\n",
        "print(arr)\n",
        "\n",
        "class Node:\n",
        "    def __init__(self, key):\n",
        "        self.left = None\n",
        "        self.right = None\n",
        "        self.val = key\n",
        "# Класс для создания бинарного дерева\n",
        "class BinarySearchTree:\n",
        "    def __init__(self):\n",
        "        self.root = None\n",
        "    # Метод для добавления узла в дерево\n",
        "    def insert(self, key):\n",
        "        if self.root is None:\n",
        "            self.root = Node(key)\n",
        "        else:\n",
        "            self._insert(key, self.root)\n",
        "    # Вспомогательный метод для рекурсивного добавления узла в дерево\n",
        "    def _insert(self, key, node):\n",
        "        if key < node.val:\n",
        "            if node.left is None:\n",
        "                node.left = Node(key)\n",
        "            else:\n",
        "                self._insert(key, node.left)\n",
        "        elif key > node.val:\n",
        "            if node.right is None:\n",
        "                node.right = Node(key)\n",
        "            else:\n",
        "                self._insert(key, node.right)\n",
        "    # Метод для поиска узла в дереве\n",
        "    def search(self, key):\n",
        "        return self._search(key, self.root)\n",
        "    # Вспомогательный метод для рекурсивного поиска узла в дереве\n",
        "    def _search(self, key, node):\n",
        "        if node is None or node.val == key:\n",
        "            return node\n",
        "        elif key < node.val:\n",
        "            return self._search(key, node.left)\n",
        "        else:\n",
        "            return self._search(key, node.right)\n",
        "    # Метод для удаления узла из дерева\n",
        "    def delete(self, key):\n",
        "        self.root = self._delete(key, self.root)\n",
        "    # Вспомогательный метод для рекурсивного удаления узла из дерева\n",
        "    def _delete(self, key, node):\n",
        "        if node is None:\n",
        "            return node\n",
        "        elif key < node.val:\n",
        "            node.left = self._delete(key, node.left)\n",
        "        elif key > node.val:\n",
        "            node.right = self._delete(key, node.right)\n",
        "        else:\n",
        "            if node.left is None:\n",
        "                return node.right\n",
        "            elif node.right is None:\n",
        "                return node.left\n",
        "            else:\n",
        "                min_node = self._find_min(node.right)\n",
        "                node.val = min_node.val\n",
        "                node.right = self._delete(min_node.val, node.right)\n",
        "        return node\n",
        "\n",
        "x = int(input('Введите число: '))\n",
        "# Создание бинарного дерева и добавление элементов\n",
        "bst = BinarySearchTree()\n",
        "for num in arr:\n",
        "    bst.insert(num)\n",
        "# Поиск элемента в дереве\n",
        "result = bst.search(x)\n",
        "if result is not None:\n",
        "    print('Элемент', x, 'найден в дереве')\n",
        "else:\n",
        "    print('Элемент', x, 'не найден в дереве')\n",
        "# Удаление элемента из дерева\n",
        "#delete_key = random.choice(lst)\n",
        "#bst.delete(delete_key)\n",
        "#print('Бинарное дерево после удаления элемента', delete_key, ':', bst)"
      ]
    },
    {
      "attachments": {},
      "cell_type": "markdown",
      "id": "49fbd2a0",
      "metadata": {
        "id": "49fbd2a0"
      },
      "source": [
        "#### Фибоначчиев поиск"
      ]
    },
    {
      "cell_type": "code",
      "execution_count": 39,
      "id": "81cab7a8",
      "metadata": {
        "id": "81cab7a8"
      },
      "outputs": [
        {
          "name": "stdout",
          "output_type": "stream",
          "text": [
            "[-43, -42, -32, -24, -17, -17, -16, -10, 0, 2, 3]\n",
            "Число -42 найдено под индексом 1\n",
            "Удаление числа -42 из массива: [-43, -32, -24, -17, -17, -16, -10, 0, 2, 3]\n",
            "Добавление числа -42 обратно в массив: [-43, -42, -32, -24, -17, -17, -16, -10, 0, 2, 3]\n"
          ]
        }
      ],
      "source": [
        "# Фибоначчиев поиск:\n",
        "# time: log(n)\n",
        "# В этом поиске анализируются все элементы, находящиеся на позициях равных числам Фибоначчи\n",
        "# Поиск продолжается до тех пор, пока не найден интервал между двумя ключами, где может располагаться отыскиваемый элемент. \n",
        "# Находится такое число фиббоначи, равное n+1\n",
        "# в алгоритме p и q последовательные числа Фибоначчи \n",
        "\n",
        "print(arr)\n",
        "\n",
        "def fibonacci(n):\n",
        "    arr = []\n",
        "    arr.append(0)\n",
        "    arr.append(1)\n",
        "    for i in range(2, n):\n",
        "        arr.append(arr[i-2] + arr[i-1])\n",
        "    return arr\n",
        "\n",
        "    \n",
        "def fibonacciPoisk(arr, x):\n",
        "    N = len(arr)\n",
        "    arr2 = fibonacci(N)\n",
        "    target = -1\n",
        "    for k in range(len(arr2)):\n",
        "        if arr2[k] >= N + 1:\n",
        "            i = arr2[k - 1]\n",
        "            p = arr2[k - 2]\n",
        "            q = arr2[k - 3]\n",
        "            break\n",
        "    while (target == -1):\n",
        "        if i < 0:\n",
        "            if p == 1:\n",
        "                break\n",
        "            i = i + q\n",
        "            p = p - q\n",
        "            q = q - p\n",
        "        elif i >= N:\n",
        "            if q == 0:\n",
        "                break\n",
        "            i = i - q\n",
        "            p, q = q, (p - q)\n",
        "        if arr[i] == x:\n",
        "            target = i\n",
        "        \n",
        "        # \n",
        "        elif x < arr[i]:\n",
        "            if q == 0:\n",
        "                break\n",
        "            i = i - q\n",
        "            p, q = q, (p - q)\n",
        "        elif x > arr[i]:\n",
        "            if p == 1:\n",
        "                break\n",
        "            i = i + q\n",
        "            p = p - q\n",
        "            q = q - p\n",
        "    return target\n",
        "\n",
        "x = int(input('Введите число: '))\n",
        "\n",
        "result = fibonacciPoisk(arr, x)\n",
        "\n",
        "if result == -1:\n",
        "    print('Число не найдено')\n",
        "else:\n",
        "    print('Число', x, 'найдено под индексом', result)\n",
        "    arr.remove(x)\n",
        "    print('Удаление числа', x, 'из массива:', arr)\n",
        "    arr.insert(result ,x)\n",
        "    print('Добавление числа', x, 'обратно в массив:', arr)"
      ]
    },
    {
      "cell_type": "code",
      "execution_count": null,
      "id": "91afd8f5",
      "metadata": {},
      "outputs": [],
      "source": []
    },
    {
      "attachments": {},
      "cell_type": "markdown",
      "id": "c0894f47",
      "metadata": {
        "id": "c0894f47"
      },
      "source": [
        "#### Интерполяционный поиск"
      ]
    },
    {
      "cell_type": "code",
      "execution_count": 9,
      "id": "9e91a9d4",
      "metadata": {
        "id": "9e91a9d4"
      },
      "outputs": [
        {
          "name": "stdout",
          "output_type": "stream",
          "text": [
            "[-15, -10, 4, 5, 9, 10, 17, 24, 29, 33, 35, 37, 39]\n",
            "Число 4 найдено под индексом 2\n",
            "Удаление числа 4 из массива: [-15, -10, 5, 9, 10, 17, 24, 29, 33, 35, 37, 39]\n",
            "Добавление числа 4 обратно в массив: [-15, -10, 4, 5, 9, 10, 17, 24, 29, 33, 35, 37, 39]\n"
          ]
        }
      ],
      "source": [
        "print(arr)\n",
        "\n",
        "# Интерполяционный поиск:\n",
        "# time: log(log(n))\n",
        "# На каждом шаге поиска интерполяционный поиск вычисляет, в каком оставшемся пространстве поиска может находиться цель, \n",
        "# на основе нижнего и верхнего значений пространства поиска и целевого значения. \n",
        "# Затем значение, найденное в этой предполагаемой позиции, сравнивается с целевым значением. \n",
        "# Если оно не равно, то оставшееся пространство поиска сокращается до части до или после предполагаемой позиции в зависимости от сравнения. \n",
        "# Этот метод будет работать только в том случае, если разумны расчеты размера различий между целевыми значениями.\n",
        "# Интерполяционный поиск в чем-то напоминает двоичный. Только в нем область поиска не делится на две равные части. \n",
        "# Вместо этого производится оценка новой области поиска по расстоянию между текущим значением элемента и ключом поиска.\n",
        "\n",
        "def interpolPoisk(arr, x):\n",
        "    start = 0\n",
        "    end = len(arr) - 1\n",
        "    \n",
        "    while arr[start] != arr[end] and x >= arr[start] and x <= arr[end]:\n",
        "        mid = start + ((x - arr[start]) * (end - start) // (arr[end] - arr[start]))\n",
        "        if x == arr[mid]:\n",
        "            return mid\n",
        "        # отбрасываем все элементы в правой области поиска, включая средний элемент\n",
        "        elif x < arr[mid]:\n",
        "            end = mid - 1\n",
        "        # отбрасываем все элементы в левой области поиска, включая средний элемент\n",
        "        else:\n",
        "            start = mid + 1\n",
        "            \n",
        "    if x == arr[start]:\n",
        "        return start\n",
        "    \n",
        "    return -1\n",
        "\n",
        "x = int(input('Введите число: '))\n",
        "result = interpolPoisk(arr, x)\n",
        "\n",
        "if result == -1:\n",
        "    print('Число не найдено')\n",
        "else:\n",
        "    print('Число', x, 'найдено под индексом', result)\n",
        "    arr.remove(x)\n",
        "    print('Удаление числа', x, 'из массива:', arr)\n",
        "    arr.insert(result ,x)\n",
        "    print('Добавление числа', x, 'обратно в массив:', arr)"
      ]
    },
    {
      "attachments": {},
      "cell_type": "markdown",
      "id": "0fe3ecac",
      "metadata": {},
      "source": [
        "### Задание №2"
      ]
    },
    {
      "attachments": {},
      "cell_type": "markdown",
      "id": "e5b0be17",
      "metadata": {
        "id": "e5b0be17"
      },
      "source": [
        "#### Простое рехэширование"
      ]
    },
    {
      "cell_type": "code",
      "execution_count": 120,
      "id": "5b1df60a",
      "metadata": {
        "id": "5b1df60a"
      },
      "outputs": [
        {
          "name": "stdout",
          "output_type": "stream",
          "text": [
            "[[11, 'C'], [1, 'A'], [16, 'D'], [21, 'E'], [26, 'F'], None, [6, 'B'], None, None, None]\n",
            "[26, 'F']\n"
          ]
        }
      ],
      "source": [
        "# Создаем хэш-таблицу размером и заполняем ее значениями None\n",
        "def create_hash_table(length):\n",
        "    global hash_table\n",
        "    if length < 1:\n",
        "        length = 10\n",
        "    hash_table = [None] * length\n",
        "    # return hash_table\n",
        "\n",
        "\n",
        "# Создаем функцию хеширования, которая возвращает остаток от деления ключа на таблицу\n",
        "def hash_function(key):\n",
        "    global hash_table\n",
        "    return key % len(hash_table)\n",
        "\n",
        "# Создаем функцию для вставки элементов в хэш-таблицу\n",
        "def insert(key, data):\n",
        "    global hash_table\n",
        "    index = hash_function(key)\n",
        "    if hash_table[index] == None:\n",
        "        hash_table[index] = [key, data]\n",
        "    else:\n",
        "        if None in hash_table:\n",
        "            index = hash_table.index(None)\n",
        "        hash_table[index] = [key, data]\n",
        "\n",
        "def remove(key):\n",
        "    global hash_table\n",
        "    index = hash_function(key)\n",
        "    hash_table[index] = None\n",
        "\n",
        "def search(key):\n",
        "        index = hash_function(key)\n",
        "        if hash_table[index] is not None and hash_table[index][0] != key:\n",
        "            for i in hash_table:\n",
        "                if i is not None and i[0] == key:\n",
        "                    index = hash_table.index(i)\n",
        "        if hash_table[index] is not None:        \n",
        "            return hash_table[index]\n",
        "        else:\n",
        "            return None   \n",
        "    \n",
        "\n",
        "create_hash_table(10)    \n",
        "insert(1, 'A')\n",
        "insert(6, 'B')\n",
        "insert(11, 'C')\n",
        "insert(16, 'D')\n",
        "insert(21, 'E')\n",
        "\n",
        "#При попытке вставить элемент с ключом 26 происходит коллизия, поэтому элемент помещается в следующую свободную ячейку:\n",
        "insert(26, 'F')\n",
        "print(hash_table)\n",
        "print(search(26))\n"
      ]
    },
    {
      "attachments": {},
      "cell_type": "markdown",
      "id": "c44cdd6b",
      "metadata": {
        "id": "c44cdd6b"
      },
      "source": [
        "#### Рехэширование с помощью псевдослучайных чисел\n"
      ]
    },
    {
      "cell_type": "code",
      "execution_count": 119,
      "id": "36b8f400",
      "metadata": {
        "id": "36b8f400"
      },
      "outputs": [
        {
          "name": "stdout",
          "output_type": "stream",
          "text": [
            "[22, 73, 88, 12, 0, 22, 1, 45]\n",
            "[8, 99, 20, 5, 57, 8, 56, 96]\n",
            "{8: 22, 99: 73, 20: 88, 5: 12, 57: 0, 56: 1, 96: 45}\n",
            "73\n"
          ]
        }
      ],
      "source": [
        "arr = [22, 73, 88, 12, 0, 22, 1, 45]\n",
        "def hash_num(a):  \n",
        "    hash_arr = []\n",
        "    random_num = random.randint(0, 100)\n",
        "    for num in arr:\n",
        "        num = (sum(ord(i) for i in str(num)) ^ random_num) % 101\n",
        "        hash_arr.append(num)\n",
        "    return hash_arr\n",
        "\n",
        "hash_arr = hash_num(arr)\n",
        "d = {}\n",
        "for i in arr:\n",
        "    d[hash_arr[arr.index(i)]] = i\n",
        "    \n",
        "def find(d, key):\n",
        "    return d[key]\n",
        "\n",
        "print(arr)\n",
        "print(hash_arr)\n",
        "print(d)\n",
        "print(find(d, hash_arr[1]))"
      ]
    },
    {
      "attachments": {},
      "cell_type": "markdown",
      "id": "59d13dc7",
      "metadata": {
        "id": "59d13dc7"
      },
      "source": [
        "#### Метод цепочек"
      ]
    },
    {
      "cell_type": "code",
      "execution_count": 20,
      "id": "297e36c2",
      "metadata": {
        "id": "297e36c2"
      },
      "outputs": [
        {
          "name": "stdout",
          "output_type": "stream",
          "text": [
            "0 --> Виноград \n",
            "1 --> Яблоко \n",
            "2 --> Банан \n",
            "3 \n",
            "4 \n",
            "5 --> Абрикос --> Арбуз \n",
            "6 \n",
            "7 \n",
            "8 \n",
            "9 --> Апельсин --> Персик -->  Ананас \n",
            "[['Виноград'], ['Яблоко'], ['Банан'], None, None, ['Абрикос', 'Арбуз'], None, None, None, ['Апельсин', 'Персик', ' Ананас']]\n"
          ]
        }
      ],
      "source": [
        "def display_hash(hash_table):\n",
        "    for i in range(len(hash_table)):\n",
        "        print(i, end = \" \")\n",
        "        if hash_table[i] == None:\n",
        "            print()\n",
        "            continue \n",
        "          \n",
        "        for j in hash_table[i]:\n",
        "            print(\"-->\", end = \" \")\n",
        "            print(j, end = \" \")\n",
        "        print()\n",
        "   \n",
        "def insertData(hash_table, key, data):\n",
        "    index = hash_function(key)\n",
        "    if hash_table[index] != None:\n",
        "        hash_table[index].append(data)\n",
        "    else:\n",
        "        hash_table[index] = [data]\n",
        "\n",
        "create_hash_table(10)\n",
        "\n",
        "insertData(hash_table, 11, 'Яблоко')\n",
        "insertData(hash_table, 22, 'Банан')\n",
        "insertData(hash_table, 20, 'Виноград')\n",
        "insertData(hash_table, 9, 'Апельсин')\n",
        "insertData(hash_table, 19, 'Персик')\n",
        "insertData(hash_table, 35, 'Абрикос')\n",
        "insertData(hash_table, 15, 'Арбуз')\n",
        "insertData(hash_table, 39, ' Ананас')\n",
        "\n",
        "display_hash (hash_table)\n",
        "print(hash_table)"
      ]
    },
    {
      "attachments": {},
      "cell_type": "markdown",
      "id": "973f68bd",
      "metadata": {
        "id": "973f68bd"
      },
      "source": [
        "### Задание №3\n",
        "Расставить на стандартной 64-клеточной шахматной доске 8 ферзей так, чтобы ни один из них не находился под боем другого». Подразумевается, что ферзь бьёт все клетки, расположенные по вертикалям, горизонталям и обеим диагоналям\n",
        "\n"
      ]
    },
    {
      "cell_type": "code",
      "execution_count": 2,
      "id": "c56fad66",
      "metadata": {
        "id": "c56fad66"
      },
      "outputs": [
        {
          "name": "stdout",
          "output_type": "stream",
          "text": [
            "1 0 0 0 0 0 0 0 \n",
            "0 0 0 0 0 0 1 0 \n",
            "0 0 0 0 1 0 0 0 \n",
            "0 0 0 0 0 0 0 1 \n",
            "0 1 0 0 0 0 0 0 \n",
            "0 0 0 1 0 0 0 0 \n",
            "0 0 0 0 0 1 0 0 \n",
            "0 0 1 0 0 0 0 0 \n"
          ]
        }
      ],
      "source": [
        "# с помощью рекурсии на последнем шаге если некуда поставить фигуру, то происходит возвращение назад\n",
        "# Использование поиска с возвратом:\n",
        "# первый ферзь ставится на первую горизонталь, затем каждый следующий ставится на следующую так, \n",
        "# чтобы его не били ранее установленные ферзи. Если на очередном этапе постановки свободных полей не оказывается, \n",
        "# происходит возврат на шаг назад — переставляется ранее установленный ферзь.\n",
        "\n",
        "def is_under_attack(board, row, col):\n",
        "    # Проверяем вертикаль и горизонталь\n",
        "    for i in range(8):\n",
        "        if board[row][i] == 1 or board[i][col] == 1:\n",
        "            return True\n",
        "    \n",
        "    # Проверяем диагонали\n",
        "    for i in range(8):\n",
        "        for j in range(8):\n",
        "            if (i + j == row + col) or (i - j == row - col):\n",
        "                if board[i][j] == 1:\n",
        "                    return True\n",
        "    return False\n",
        "\n",
        "\n",
        "# рекурсивная функция, которая помещает ферзей на каждую колонку доски, проверяя при этом, не находятся ли они под боем других ферзей\n",
        "def solution(board, col):\n",
        "    #случай, если фсе ферзи размещены\n",
        "    if col >= 8:\n",
        "        return True\n",
        "    \n",
        "    # Если клетка не находится под атакой, мы помещаем ферзя на доску, устанавливая значение 1 в соответствующей клетке.\n",
        "    # Рекурсивно вызываем функцию, увеличивая col на 1, чтобы перейти к следующей колонке.\n",
        "    for i in range(8):\n",
        "        if not is_under_attack(board, i, col):\n",
        "            board[i][col] = 1\n",
        "            if solution(board, col + 1):\n",
        "                return True\n",
        "            board[i][col] = 0\n",
        "    \n",
        "    return False\n",
        "\n",
        "def print_board(board):\n",
        "    for i in range(8):\n",
        "        for j in range(8):\n",
        "            print(board[i][j], end=' ')\n",
        "        print()\n",
        "\n",
        "chessboard = [[0] * 8 for _ in range(8)]\n",
        "\n",
        "solution(chessboard, 0)\n",
        "\n",
        "print_board(chessboard)\n",
        "\n"
      ]
    },
    {
      "cell_type": "markdown",
      "id": "rental-jerusalem",
      "metadata": {
        "id": "rental-jerusalem"
      },
      "source": [
        "### Вывод\n"
      ]
    },
    {
      "cell_type": "markdown",
      "id": "0c2b8899",
      "metadata": {
        "id": "0c2b8899"
      },
      "source": []
    }
  ],
  "metadata": {
    "colab": {
      "provenance": []
    },
    "kernelspec": {
      "display_name": "Python 3 (ipykernel)",
      "language": "python",
      "name": "python3"
    },
    "language_info": {
      "codemirror_mode": {
        "name": "ipython",
        "version": 3
      },
      "file_extension": ".py",
      "mimetype": "text/x-python",
      "name": "python",
      "nbconvert_exporter": "python",
      "pygments_lexer": "ipython3",
      "version": "3.10.2"
    }
  },
  "nbformat": 4,
  "nbformat_minor": 5
}
